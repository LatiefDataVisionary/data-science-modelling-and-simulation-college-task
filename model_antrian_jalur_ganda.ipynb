{
  "nbformat": 4,
  "nbformat_minor": 0,
  "metadata": {
    "colab": {
      "provenance": [],
      "authorship_tag": "ABX9TyMgJKx35nXgBVrL51Du936O",
      "include_colab_link": true
    },
    "kernelspec": {
      "name": "python3",
      "display_name": "Python 3"
    },
    "language_info": {
      "name": "python"
    }
  },
  "cells": [
    {
      "cell_type": "markdown",
      "metadata": {
        "id": "view-in-github",
        "colab_type": "text"
      },
      "source": [
        "<a href=\"https://colab.research.google.com/github/LatiefDataVisionary/data-science-modelling-and-simulation-college-task/blob/main/model_antrian_jalur_ganda.ipynb\" target=\"_parent\"><img src=\"https://colab.research.google.com/assets/colab-badge.svg\" alt=\"Open In Colab\"/></a>"
      ]
    },
    {
      "cell_type": "code",
      "execution_count": 1,
      "metadata": {
        "colab": {
          "base_uri": "https://localhost:8080/"
        },
        "id": "0JTq8ZodB1fQ",
        "outputId": "1c995431-21a1-4156-a584-c0fadf6abbda"
      },
      "outputs": [
        {
          "output_type": "stream",
          "name": "stdout",
          "text": [
            "1. Probabilitas tidak ada nasabah dalam sistem (P0): 0.4491\n",
            "2. Jumlah nasabah rata-rata dalam sistem (L): 0.8024\n",
            "3. Jumlah nasabah rata-rata dalam antrian (Lq): 0.0024\n",
            "4. Waktu rata-rata dalam sistem (W): 0.2006 jam\n",
            "5. Waktu rata-rata dalam antrian (Wq): 0.0006 jam\n",
            "6. Probabilitas petugas sibuk (Pw): 0.0096\n"
          ]
        }
      ],
      "source": [
        "import math\n",
        "\n",
        "def calculate_mmc_parameters(lambda_, mu, c):\n",
        "    # 1. Probabilitas tidak ada nasabah dalam sistem (P0)\n",
        "    sum_term = sum((lambda_ / mu) ** n / math.factorial(n) for n in range(c))\n",
        "    p0_term = ((lambda_ / mu) ** c) / (math.factorial(c) * (1 - (lambda_ / (c * mu))))\n",
        "    P0 = 1 / (sum_term + p0_term)\n",
        "\n",
        "    # 2. Jumlah nasabah rata-rata dalam sistem (L)\n",
        "    L = ((lambda_ * mu * (lambda_ / mu) ** c) / (math.factorial(c - 1) * (c * mu - lambda_) ** 2)) * P0 + (lambda_ / mu)\n",
        "\n",
        "    # 3. Jumlah nasabah rata-rata dalam antrian (Lq)\n",
        "    Lq = L - (lambda_ / mu)\n",
        "\n",
        "    # 4. Waktu rata-rata dalam sistem (W)\n",
        "    W = L / lambda_\n",
        "\n",
        "    # 5. Waktu rata-rata dalam antrian (Wq)\n",
        "    Wq = Lq / lambda_\n",
        "\n",
        "    # 6. Probabilitas petugas sibuk (Pw)\n",
        "    Pw = ((lambda_ / mu) ** c) / (math.factorial(c) * (1 - (lambda_ / (c * mu)))) * P0\n",
        "\n",
        "    return {\n",
        "        \"P0\": P0,\n",
        "        \"L\": L,\n",
        "        \"Lq\": Lq,\n",
        "        \"W\": W,\n",
        "        \"Wq\": Wq,\n",
        "        \"Pw\": Pw\n",
        "    }\n",
        "\n",
        "# Input parameter\n",
        "lambda_ = 4  # Tingkat kedatangan (nasabah/jam)\n",
        "mu = 5       # Tingkat pelayanan (nasabah/jam)\n",
        "c = 4        # Jumlah petugas\n",
        "\n",
        "# Hitung parameter\n",
        "results = calculate_mmc_parameters(lambda_, mu, c)\n",
        "\n",
        "# Output hasil\n",
        "print(\"1. Probabilitas tidak ada nasabah dalam sistem (P0):\", round(results[\"P0\"], 4))\n",
        "print(\"2. Jumlah nasabah rata-rata dalam sistem (L):\", round(results[\"L\"], 4))\n",
        "print(\"3. Jumlah nasabah rata-rata dalam antrian (Lq):\", round(results[\"Lq\"], 4))\n",
        "print(\"4. Waktu rata-rata dalam sistem (W):\", round(results[\"W\"], 4), \"jam\")\n",
        "print(\"5. Waktu rata-rata dalam antrian (Wq):\", round(results[\"Wq\"], 4), \"jam\")\n",
        "print(\"6. Probabilitas petugas sibuk (Pw):\", round(results[\"Pw\"], 4))"
      ]
    }
  ]
}