{
  "nbformat": 4,
  "nbformat_minor": 0,
  "metadata": {
    "colab": {
      "provenance": [],
      "authorship_tag": "ABX9TyPDhIUAuek7+ox1297DrUo3",
      "include_colab_link": true
    },
    "kernelspec": {
      "name": "python3",
      "display_name": "Python 3"
    },
    "language_info": {
      "name": "python"
    }
  },
  "cells": [
    {
      "cell_type": "markdown",
      "metadata": {
        "id": "view-in-github",
        "colab_type": "text"
      },
      "source": [
        "<a href=\"https://colab.research.google.com/github/LatiefDataVisionary/data-science-modelling-and-simulation-college-task/blob/main/model_antrian_jalur_ganda.ipynb\" target=\"_parent\"><img src=\"https://colab.research.google.com/assets/colab-badge.svg\" alt=\"Open In Colab\"/></a>"
      ]
    },
    {
      "cell_type": "markdown",
      "source": [
        "### **Soal/Kasus 1:**\n",
        "\n",
        "Satu Petugas untuk pelayanan pinjaman pada Bank BCD mewawancara seluruh nasabah yang ingin membuka rekening pinjaman baru. Tingkat kedatanganpara nasabah tersebut adalah 4 nasabah per jam berdasarkan distribusi Poisson, dan petugas rekening tersebut menghabiskan waktu rata-rata 12 menit untuksetiap nasabah yang ingin membuka rekening baru.\n",
        "\n",
        "B. Tambahkan seorang petugas baru pada sistem atas masalah tersebut sehingga sekarang sistem tersebut menjadi sistem antrian pelayanan multiple dengan 4 (c) saluran dan tentukan karakteristik operasi yang diminta pada bagian A\n"
      ],
      "metadata": {
        "id": "K7CVIEzRPXEJ"
      }
    },
    {
      "cell_type": "code",
      "execution_count": 1,
      "metadata": {
        "colab": {
          "base_uri": "https://localhost:8080/"
        },
        "id": "0JTq8ZodB1fQ",
        "outputId": "912cac98-176e-4a7f-aace-87c7e9a4697e"
      },
      "outputs": [
        {
          "output_type": "stream",
          "name": "stdout",
          "text": [
            "1. Probabilitas tidak ada nasabah dalam sistem (P0): 0.4491\n",
            "2. Jumlah nasabah rata-rata dalam sistem (L): 0.8024\n",
            "3. Jumlah nasabah rata-rata dalam antrian (Lq): 0.0024\n",
            "4. Waktu rata-rata dalam sistem (W): 0.2006 jam\n",
            "5. Waktu rata-rata dalam antrian (Wq): 0.0006 jam\n",
            "6. Probabilitas petugas sibuk (Pw): 0.0096\n"
          ]
        }
      ],
      "source": [
        "import math\n",
        "\n",
        "def calculate_mmc_parameters(lambda_, mu, c):\n",
        "    # 1. Probabilitas tidak ada nasabah dalam sistem (P0)\n",
        "    sum_term = sum((lambda_ / mu) ** n / math.factorial(n) for n in range(c))\n",
        "    p0_term = ((lambda_ / mu) ** c) / (math.factorial(c) * (1 - (lambda_ / (c * mu))))\n",
        "    P0 = 1 / (sum_term + p0_term)\n",
        "\n",
        "    # 2. Jumlah nasabah rata-rata dalam sistem (L)\n",
        "    L = ((lambda_ * mu * (lambda_ / mu) ** c) / (math.factorial(c - 1) * (c * mu - lambda_) ** 2)) * P0 + (lambda_ / mu)\n",
        "\n",
        "    # 3. Jumlah nasabah rata-rata dalam antrian (Lq)\n",
        "    Lq = L - (lambda_ / mu)\n",
        "\n",
        "    # 4. Waktu rata-rata dalam sistem (W)\n",
        "    W = L / lambda_\n",
        "\n",
        "    # 5. Waktu rata-rata dalam antrian (Wq)\n",
        "    Wq = Lq / lambda_\n",
        "\n",
        "    # 6. Probabilitas petugas sibuk (Pw)\n",
        "    Pw = ((lambda_ / mu) ** c) / (math.factorial(c) * (1 - (lambda_ / (c * mu)))) * P0\n",
        "\n",
        "    return {\n",
        "        \"P0\": P0,\n",
        "        \"L\": L,\n",
        "        \"Lq\": Lq,\n",
        "        \"W\": W,\n",
        "        \"Wq\": Wq,\n",
        "        \"Pw\": Pw\n",
        "    }\n",
        "\n",
        "# Input parameter\n",
        "lambda_ = 4  # Tingkat kedatangan (nasabah/jam)\n",
        "mu = 5       # Tingkat pelayanan (nasabah/jam)\n",
        "c = 4        # Jumlah petugas\n",
        "\n",
        "# Hitung parameter\n",
        "results = calculate_mmc_parameters(lambda_, mu, c)\n",
        "\n",
        "# Output hasil\n",
        "print(\"1. Probabilitas tidak ada nasabah dalam sistem (P0):\", round(results[\"P0\"], 4))\n",
        "print(\"2. Jumlah nasabah rata-rata dalam sistem (L):\", round(results[\"L\"], 4))\n",
        "print(\"3. Jumlah nasabah rata-rata dalam antrian (Lq):\", round(results[\"Lq\"], 4))\n",
        "print(\"4. Waktu rata-rata dalam sistem (W):\", round(results[\"W\"], 4), \"jam\")\n",
        "print(\"5. Waktu rata-rata dalam antrian (Wq):\", round(results[\"Wq\"], 4), \"jam\")\n",
        "print(\"6. Probabilitas petugas sibuk (Pw):\", round(results[\"Pw\"], 4))"
      ]
    },
    {
      "cell_type": "markdown",
      "source": [
        "### **Soal/Kasus 2**:\n",
        "\n",
        "Terdapat satu mesin fotocopy pada sekolah bisnis.\n",
        "Mahasiswa datang dengan tingkat lamda=40 perjam\n",
        " (distribusi poisson). Proses fotocopy rata-rata 40 detik\n",
        " atau miu=90 perjam (distribusi exponensial). Hitung :\n",
        " 1. Persentase waktu mesin digunakan\n",
        " 2. Panjang antrian rata-rata\n",
        " 3. Jumlah mahasiswa dalam sistem rata-rata\n",
        " 4. Waktu yang dihabiskan untuk menunggu dalam\n",
        " antrian rata-rata\n",
        " 5. Waktu yang dihabiskan dalam sistem rata-rata"
      ],
      "metadata": {
        "id": "IxbPeKy4PMb9"
      }
    },
    {
      "cell_type": "code",
      "source": [
        "import math\n",
        "\n",
        "def calculate_mm1_parameters(lambda_, mu):\n",
        "    # 1. Persentase waktu mesin digunakan (rho)\n",
        "    rho = lambda_ / mu\n",
        "\n",
        "    # 2. Panjang antrian rata-rata (Lq)\n",
        "    Lq = (lambda_**2) / (mu * (mu - lambda_))\n",
        "\n",
        "    # 3. Jumlah mahasiswa dalam sistem rata-rata (L)\n",
        "    L = lambda_ / (mu - lambda_)\n",
        "\n",
        "    # 4. Waktu yang dihabiskan untuk menunggu dalam antrian rata-rata (Wq)\n",
        "    Wq = Lq / lambda_\n",
        "\n",
        "    # 5. Waktu yang dihabiskan dalam sistem rata-rata (W)\n",
        "    W = 1 / (mu - lambda_)\n",
        "\n",
        "    return {\n",
        "        \"rho\": rho,\n",
        "        \"Lq\": Lq,\n",
        "        \"L\": L,\n",
        "        \"Wq\": Wq,\n",
        "        \"W\": W\n",
        "    }\n",
        "\n",
        "# Input parameter\n",
        "lambda_ = 40  # Tingkat kedatangan (mahasiswa/jam)\n",
        "mu = 90       # Tingkat pelayanan (mahasiswa/jam)\n",
        "\n",
        "# Hitung parameter\n",
        "results = calculate_mm1_parameters(lambda_, mu)\n",
        "\n",
        "# Output hasil\n",
        "print(\"1. Persentase waktu mesin digunakan (rho):\", round(results[\"rho\"], 4), \"atau\", round(results[\"rho\"] * 100, 2), \"%\")\n",
        "print(\"2. Panjang antrian rata-rata (Lq):\", round(results[\"Lq\"], 4), \"mahasiswa\")\n",
        "print(\"3. Jumlah mahasiswa dalam sistem rata-rata (L):\", round(results[\"L\"], 4), \"mahasiswa\")\n",
        "print(\"4. Waktu yang dihabiskan untuk menunggu dalam antrian rata-rata (Wq):\", round(results[\"Wq\"], 4), \"jam atau\", round(results[\"Wq\"] * 60, 2), \"menit\")\n",
        "print(\"5. Waktu yang dihabiskan dalam sistem rata-rata (W):\", round(results[\"W\"], 4), \"jam atau\", round(results[\"W\"] * 60, 2), \"menit\")"
      ],
      "metadata": {
        "colab": {
          "base_uri": "https://localhost:8080/"
        },
        "id": "SnwzzJT2PkUx",
        "outputId": "733f68d8-c582-4a2c-cd91-5d54018869a8"
      },
      "execution_count": 2,
      "outputs": [
        {
          "output_type": "stream",
          "name": "stdout",
          "text": [
            "1. Persentase waktu mesin digunakan (rho): 0.4444 atau 44.44 %\n",
            "2. Panjang antrian rata-rata (Lq): 0.3556 mahasiswa\n",
            "3. Jumlah mahasiswa dalam sistem rata-rata (L): 0.8 mahasiswa\n",
            "4. Waktu yang dihabiskan untuk menunggu dalam antrian rata-rata (Wq): 0.0089 jam atau 0.53 menit\n",
            "5. Waktu yang dihabiskan dalam sistem rata-rata (W): 0.02 jam atau 1.2 menit\n"
          ]
        }
      ]
    }
  ]
}
