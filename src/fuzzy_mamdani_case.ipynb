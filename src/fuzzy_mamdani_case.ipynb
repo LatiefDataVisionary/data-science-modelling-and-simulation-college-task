{
  "nbformat": 4,
  "nbformat_minor": 0,
  "metadata": {
    "colab": {
      "provenance": [],
      "authorship_tag": "ABX9TyNOLyAYlP+g6QApHDw4xlCI",
      "include_colab_link": true
    },
    "kernelspec": {
      "name": "python3",
      "display_name": "Python 3"
    },
    "language_info": {
      "name": "python"
    }
  },
  "cells": [
    {
      "cell_type": "markdown",
      "metadata": {
        "id": "view-in-github",
        "colab_type": "text"
      },
      "source": [
        "<a href=\"https://colab.research.google.com/github/LatiefDataVisionary/data-science-modelling-and-simulation-college-task/blob/main/src/fuzzy_mamdani_case.ipynb\" target=\"_parent\"><img src=\"https://colab.research.google.com/assets/colab-badge.svg\" alt=\"Open In Colab\"/></a>"
      ]
    },
    {
      "cell_type": "markdown",
      "source": [
        "## **1. Instalasi dan Impor Library**"
      ],
      "metadata": {
        "id": "PN5BMIN36z1n"
      }
    },
    {
      "cell_type": "markdown",
      "source": [
        "Langkah pertama adalah mengimpor pustaka yang diperlukan dan mendefinisikan rentang nilai (*universe of discourse*) untuk setiap variabel.\n"
      ],
      "metadata": {
        "id": "zOHCP5Yq63Vr"
      }
    },
    {
      "cell_type": "code",
      "source": [
        "pip install scikit-fuzzy"
      ],
      "metadata": {
        "colab": {
          "base_uri": "https://localhost:8080/"
        },
        "id": "FqwnkBWz7Jh-",
        "outputId": "a6fb5271-938d-4c1d-f193-2dac2e704db2"
      },
      "execution_count": 1,
      "outputs": [
        {
          "output_type": "stream",
          "name": "stdout",
          "text": [
            "Collecting scikit-fuzzy\n",
            "  Downloading scikit_fuzzy-0.5.0-py2.py3-none-any.whl.metadata (2.6 kB)\n",
            "Downloading scikit_fuzzy-0.5.0-py2.py3-none-any.whl (920 kB)\n",
            "\u001b[?25l   \u001b[90m━━━━━━━━━━━━━━━━━━━━━━━━━━━━━━━━━━━━━━━━\u001b[0m \u001b[32m0.0/920.8 kB\u001b[0m \u001b[31m?\u001b[0m eta \u001b[36m-:--:--\u001b[0m\r\u001b[2K   \u001b[91m━━━━━━━━━━━━━━━━━━━━━━━━━━━━━━━━━━━━━━━\u001b[0m\u001b[91m╸\u001b[0m \u001b[32m911.4/920.8 kB\u001b[0m \u001b[31m54.5 MB/s\u001b[0m eta \u001b[36m0:00:01\u001b[0m\r\u001b[2K   \u001b[90m━━━━━━━━━━━━━━━━━━━━━━━━━━━━━━━━━━━━━━━━\u001b[0m \u001b[32m920.8/920.8 kB\u001b[0m \u001b[31m21.7 MB/s\u001b[0m eta \u001b[36m0:00:00\u001b[0m\n",
            "\u001b[?25hInstalling collected packages: scikit-fuzzy\n",
            "Successfully installed scikit-fuzzy-0.5.0\n"
          ]
        }
      ]
    },
    {
      "cell_type": "code",
      "execution_count": 2,
      "metadata": {
        "id": "8FkIEqeM6HJ7"
      },
      "outputs": [],
      "source": [
        "import numpy as np\n",
        "import skfuzzy as fuzz\n",
        "from skfuzzy import control as ctrl\n",
        "import matplotlib.pyplot as plt"
      ]
    },
    {
      "cell_type": "markdown",
      "source": [
        "*   `!pip install scikit-fuzzy`: Perintah ini menggunakan manajer paket `pip` untuk menginstal `scikit-fuzzy` di lingkungan Google Colab. Tanda seru (`!`) di awal menandakan bahwa ini adalah perintah *shell* yang dijalankan, bukan kode Python.\n",
        "*   `import numpy as np`: Mengimpor library NumPy, yang sangat penting untuk komputasi numerik dan pembuatan rentang data (`np.arange`). `scikit-fuzzy` sangat bergantung pada NumPy.\n",
        "*   `import skfuzzy as fuzz`: Mengimpor library inti `scikit-fuzzy`.\n",
        "*   `from skfuzzy import control as ctrl`: Mengimpor modul kontrol dari `scikit-fuzzy`, yang menyediakan alat untuk membangun Sistem Inferensi Fuzzy (Antecedent, Consequent, Rule, ControlSystem).\n",
        "*   `import matplotlib.pyplot as plt`: Mengimpor Matplotlib untuk visualisasi grafik, seperti fungsi keanggotaan dan hasil defuzzifikasi."
      ],
      "metadata": {
        "id": "mLfZ7R4VgTfJ"
      }
    },
    {
      "cell_type": "markdown",
      "source": [
        "## **2. Definisi Variabel dan Fungsi Keanggotaan (Fuzzifikasi)**\n"
      ],
      "metadata": {
        "id": "M1o7OkwggkkW"
      }
    },
    {
      "cell_type": "markdown",
      "source": [
        "Pada tahap ini, kita mendefinisikan *Universe of Discourse* (rentang nilai) dan fungsi keanggotaan untuk setiap variabel (input dan output).\n"
      ],
      "metadata": {
        "id": "nhr2IrtxgoqU"
      }
    },
    {
      "cell_type": "markdown",
      "source": [
        "### **1. Variabel Input (Antecedents**)\n"
      ],
      "metadata": {
        "id": "eSGxItuSgwLR"
      }
    },
    {
      "cell_type": "code",
      "source": [
        "# Intensitas Cahaya (Lux)\n",
        "# Rentang: 0 hingga 1000 Lux\n",
        "cahaya = ctrl.Antecedent(np.arange(0, 1001, 1), 'cahaya')\n",
        "\n",
        "# Jumlah Kendaraan (kendaraan/menit)\n",
        "# Rentang: 0 hingga 60 kendaraan/menit\n",
        "kendaraan = ctrl.Antecedent(np.arange(0, 61, 1), 'kendaraan')"
      ],
      "metadata": {
        "id": "NVFnR59zgzsB"
      },
      "execution_count": 3,
      "outputs": []
    },
    {
      "cell_type": "markdown",
      "source": [
        "### **2. Variabel Output (Consequent)**"
      ],
      "metadata": {
        "id": "bq38cZB5hFsX"
      }
    },
    {
      "cell_type": "code",
      "source": [
        "# Daya Lampu (%)\n",
        "# Rentang: 0 hingga 100 %\n",
        "daya = ctrl.Consequent(np.arange(0, 101, 1), 'daya')"
      ],
      "metadata": {
        "id": "gmtxUNVghHOQ"
      },
      "execution_count": null,
      "outputs": []
    }
  ]
}