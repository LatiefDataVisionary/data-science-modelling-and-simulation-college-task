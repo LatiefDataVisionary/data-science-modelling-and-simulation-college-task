{
  "nbformat": 4,
  "nbformat_minor": 0,
  "metadata": {
    "colab": {
      "provenance": [],
      "authorship_tag": "ABX9TyOAXPhQaF3f6md8819oVEDl",
      "include_colab_link": true
    },
    "kernelspec": {
      "name": "python3",
      "display_name": "Python 3"
    },
    "language_info": {
      "name": "python"
    }
  },
  "cells": [
    {
      "cell_type": "markdown",
      "metadata": {
        "id": "view-in-github",
        "colab_type": "text"
      },
      "source": [
        "<a href=\"https://colab.research.google.com/github/LatiefDataVisionary/data-science-modelling-and-simulation-college-task/blob/main/fuzzy_mamdani_case.ipynb\" target=\"_parent\"><img src=\"https://colab.research.google.com/assets/colab-badge.svg\" alt=\"Open In Colab\"/></a>"
      ]
    },
    {
      "cell_type": "markdown",
      "source": [
        "## **1. Impor Pustaka dan Definisi Universe**"
      ],
      "metadata": {
        "id": "PN5BMIN36z1n"
      }
    },
    {
      "cell_type": "markdown",
      "source": [
        "Langkah pertama adalah mengimpor pustaka yang diperlukan dan mendefinisikan rentang nilai (*universe of discourse*) untuk setiap variabel.\n"
      ],
      "metadata": {
        "id": "zOHCP5Yq63Vr"
      }
    },
    {
      "cell_type": "code",
      "source": [
        "pip install scikit-fuzzy"
      ],
      "metadata": {
        "colab": {
          "base_uri": "https://localhost:8080/"
        },
        "id": "FqwnkBWz7Jh-",
        "outputId": "2ecb7d16-0a57-4f44-9155-8429ea689109"
      },
      "execution_count": 5,
      "outputs": [
        {
          "output_type": "stream",
          "name": "stdout",
          "text": [
            "Collecting scikit-fuzzy\n",
            "  Downloading scikit_fuzzy-0.5.0-py2.py3-none-any.whl.metadata (2.6 kB)\n",
            "Downloading scikit_fuzzy-0.5.0-py2.py3-none-any.whl (920 kB)\n",
            "\u001b[2K   \u001b[90m━━━━━━━━━━━━━━━━━━━━━━━━━━━━━━━━━━━━━━━━\u001b[0m \u001b[32m920.8/920.8 kB\u001b[0m \u001b[31m9.8 MB/s\u001b[0m eta \u001b[36m0:00:00\u001b[0m\n",
            "\u001b[?25hInstalling collected packages: scikit-fuzzy\n",
            "Successfully installed scikit-fuzzy-0.5.0\n"
          ]
        }
      ]
    },
    {
      "cell_type": "code",
      "execution_count": 6,
      "metadata": {
        "id": "8FkIEqeM6HJ7"
      },
      "outputs": [],
      "source": [
        "import numpy as np\n",
        "import skfuzzy as fuzz\n",
        "from skfuzzy import control as ctrl\n",
        "import matplotlib.pyplot as plt"
      ]
    },
    {
      "cell_type": "code",
      "source": [
        "# Mendefinisikan rentang nilai (Universe) untuk setiap variabel\n",
        "# Input 1: Intensitas Cahaya (0-1000 Lux)\n",
        "cahaya = ctrl.Antecedent(np.arange(0, 1001, 1), 'cahaya')\n",
        "\n",
        "# Input 2: Jumlah Kendaraan (0-60 kendaraan/menit)\n",
        "kendaraan = ctrl.Antecedent(np.arange(0, 61, 1), 'kendaraan')\n",
        "\n",
        "# Output: Daya Lampu (0-100 %)\n",
        "daya = ctrl.Consequent(np.arange(0, 101, 1), 'daya')"
      ],
      "metadata": {
        "id": "eBwNSK097Dp0"
      },
      "execution_count": 8,
      "outputs": []
    }
  ]
}
