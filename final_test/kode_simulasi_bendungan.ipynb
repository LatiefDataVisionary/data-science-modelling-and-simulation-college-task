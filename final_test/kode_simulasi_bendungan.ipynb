{
  "nbformat": 4,
  "nbformat_minor": 0,
  "metadata": {
    "colab": {
      "provenance": [],
      "authorship_tag": "ABX9TyO9/chduW/dJwNfQ8r1Rfo2",
      "include_colab_link": true
    },
    "kernelspec": {
      "name": "python3",
      "display_name": "Python 3"
    },
    "language_info": {
      "name": "python"
    }
  },
  "cells": [
    {
      "cell_type": "markdown",
      "metadata": {
        "id": "view-in-github",
        "colab_type": "text"
      },
      "source": [
        "<a href=\"https://colab.research.google.com/github/LatiefDataVisionary/data-science-modelling-and-simulation-college-task/blob/main/final_test/kode_simulasi_bendungan.ipynb\" target=\"_parent\"><img src=\"https://colab.research.google.com/assets/colab-badge.svg\" alt=\"Open In Colab\"/></a>"
      ]
    },
    {
      "cell_type": "markdown",
      "source": [
        "**SISTEM KONTROL PINTU AIR BENDUNGAN DENGAN LOGIKA FUZZY SUGENO**\n",
        "\n",
        "Studi Kasus: Proyek SAKTI (Sistem Antisipasi Ketinggian Air Terpadu)\n",
        "\n",
        "Oleh: Lathif Ramadhan (5231811022)\n",
        "\n",
        "UAS Pemodelan dan Simulasi"
      ],
      "metadata": {
        "id": "F7-HYw48J4nr"
      }
    },
    {
      "cell_type": "markdown",
      "source": [
        "## **1. Import Library**"
      ],
      "metadata": {
        "id": "_ePlzc6mKIAh"
      }
    },
    {
      "cell_type": "code",
      "source": [
        "!pip install scikit-fuzzy"
      ],
      "metadata": {
        "colab": {
          "base_uri": "https://localhost:8080/"
        },
        "id": "VN99X0ncKXWD",
        "outputId": "94a6b8e6-db7e-4ce0-d90e-bbf6aaad4d1f"
      },
      "execution_count": 4,
      "outputs": [
        {
          "output_type": "stream",
          "name": "stdout",
          "text": [
            "Collecting scikit-fuzzy\n",
            "  Downloading scikit_fuzzy-0.5.0-py2.py3-none-any.whl.metadata (2.6 kB)\n",
            "Downloading scikit_fuzzy-0.5.0-py2.py3-none-any.whl (920 kB)\n",
            "\u001b[?25l   \u001b[90m━━━━━━━━━━━━━━━━━━━━━━━━━━━━━━━━━━━━━━━━\u001b[0m \u001b[32m0.0/920.8 kB\u001b[0m \u001b[31m?\u001b[0m eta \u001b[36m-:--:--\u001b[0m\r\u001b[2K   \u001b[91m━━━\u001b[0m\u001b[91m╸\u001b[0m\u001b[90m━━━━━━━━━━━━━━━━━━━━━━━━━━━━━━━━━━━━\u001b[0m \u001b[32m81.9/920.8 kB\u001b[0m \u001b[31m2.4 MB/s\u001b[0m eta \u001b[36m0:00:01\u001b[0m\r\u001b[2K   \u001b[91m━━━━━━━━━━━━━\u001b[0m\u001b[91m╸\u001b[0m\u001b[90m━━━━━━━━━━━━━━━━━━━━━━━━━━\u001b[0m \u001b[32m317.4/920.8 kB\u001b[0m \u001b[31m4.7 MB/s\u001b[0m eta \u001b[36m0:00:01\u001b[0m\r\u001b[2K   \u001b[91m━━━━━━━━━━━━━━━━━━━━━━━━━━━━━━━━━━━━━━━\u001b[0m\u001b[91m╸\u001b[0m \u001b[32m911.4/920.8 kB\u001b[0m \u001b[31m9.8 MB/s\u001b[0m eta \u001b[36m0:00:01\u001b[0m\r\u001b[2K   \u001b[90m━━━━━━━━━━━━━━━━━━━━━━━━━━━━━━━━━━━━━━━━\u001b[0m \u001b[32m920.8/920.8 kB\u001b[0m \u001b[31m8.5 MB/s\u001b[0m eta \u001b[36m0:00:00\u001b[0m\n",
            "\u001b[?25hInstalling collected packages: scikit-fuzzy\n",
            "Successfully installed scikit-fuzzy-0.5.0\n"
          ]
        }
      ]
    },
    {
      "cell_type": "code",
      "execution_count": 5,
      "metadata": {
        "id": "BK-KxJr4Hw0X"
      },
      "outputs": [],
      "source": [
        "import numpy as np\n",
        "import skfuzzy as fuzz\n",
        "from skfuzzy import control as ctrl\n",
        "import matplotlib.pyplot as plt"
      ]
    },
    {
      "cell_type": "markdown",
      "source": [
        "## **2. Fuzzifikasi: Definisi Variabel Input dan Output**\n"
      ],
      "metadata": {
        "id": "5LOdGMxZKsLS"
      }
    },
    {
      "cell_type": "markdown",
      "source": [
        "Catatan: Dalam scikit-fuzzy, tidak ada tipe \"sugeno\" murni.\n",
        "Kita mensimulasikan model Sugeno Orde-Nol dengan mendefinisikan konsekuen (output) sebagai himpunan fuzzy singleton (segitiga sangat sempit) atau menggunakan pendekatan Mamdani yang hasil defuzzifikasinya setara dengan rata-rata tertimbang dari centroid singleton tersebut."
      ],
      "metadata": {
        "id": "8fbDpP0rKyRy"
      }
    },
    {
      "cell_type": "markdown",
      "source": [
        "### **2.1. Variabel Input (Antecedents)**\n"
      ],
      "metadata": {
        "id": "uju6tbHTLJDa"
      }
    },
    {
      "cell_type": "code",
      "source": [
        "# Semesta pembicaraan dibuat sedikit lebih lebar untuk visualisasi yang baik\n",
        "TMA = ctrl.Antecedent(np.arange(80, 11, 1), 'Tinggi Muka Air (TMA)')\n",
        "inflow = ctrl.Antecedent(np.arange(50, 251, 1), 'DebitAir Masuk (Inflow)')\n",
        "hujan = ctrl.Antecedent(np.arange(0, 101, 1), 'Intensitas Curah Hujan')"
      ],
      "metadata": {
        "id": "h85TXpySLInz"
      },
      "execution_count": 7,
      "outputs": []
    },
    {
      "cell_type": "markdown",
      "source": [
        "### **2.2. Variabel Output (Consequent)**"
      ],
      "metadata": {
        "id": "WVM6bpfTLDJ7"
      }
    },
    {
      "cell_type": "code",
      "source": [
        "bukaan_pintu = ctrl.Consequent(np.arange(0, 101, 1), 'Derajat Pembukaan Pintu Air')"
      ],
      "metadata": {
        "id": "P4rWBHXlL9Wl"
      },
      "execution_count": 8,
      "outputs": []
    }
  ]
}